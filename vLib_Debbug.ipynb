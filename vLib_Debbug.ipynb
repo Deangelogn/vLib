{
 "cells": [
  {
   "cell_type": "code",
   "execution_count": 1,
   "metadata": {
    "collapsed": true
   },
   "outputs": [],
   "source": [
    "import videoIO as vio\n",
    "import vfeatures as fv\n",
    "import pandas as pd\n",
    "import vplot as vp\n",
    "import vmanipulation as vm\n",
    "\n",
    "df = pd.read_csv('../data.csv')\n",
    "filesDir = '../Database/'\n",
    "df['File'] = df.File.str[-16:]\n",
    "df['File'] = filesDir + df['File']\n",
    "df = df.rename(columns={'Time_duration (mm:ss)': 'Time_duration','Time_start (mm:ss.ms)':'Time_start'})\n",
    "\n",
    "filename = df['File'][0] \n",
    "start = df['Time_start'][0]\n",
    "duration = df['Time_duration'][0]\n",
    "\n"
   ]
  },
  {
   "cell_type": "code",
   "execution_count": 2,
   "metadata": {
    "collapsed": true
   },
   "outputs": [],
   "source": [
    "A = vio.readAudio(filename, duration, start, mono=True)"
   ]
  },
  {
   "cell_type": "code",
   "execution_count": 3,
   "metadata": {
    "collapsed": true
   },
   "outputs": [],
   "source": [
    "A = vm.normalize(A,normRange=[-1,1])\n",
    "A = vm.removeDC(A)"
   ]
  },
  {
   "cell_type": "code",
   "execution_count": 4,
   "metadata": {},
   "outputs": [
    {
     "data": {
      "image/png": "[encoded data removed]",
      "text/plain": [
       "<matplotlib.figure.Figure at 0x7f5e10cf4908>"
      ]
     },
     "metadata": {},
     "output_type": "display_data"
    }
   ],
   "source": [
    "vp.plotAudio(A)"
   ]
  },
  {
   "cell_type": "code",
   "execution_count": 170,
   "metadata": {},
   "outputs": [
    {
     "name": "stdout",
     "output_type": "stream",
     "text": [
      "[  0.00000000e+00   4.08163265e-02   8.16326531e-02 ...,   2.39998776e+04\n",
      "   2.39999184e+04   2.39999592e+04]\n",
      "[  0.00000000e+00   4.08163265e-02   8.16326531e-02 ...,   4.79998776e+04\n",
      "   4.79999184e+04   4.79999592e+04]\n",
      "[  1.13509202e-11   1.35475053e-01   1.87234195e-01 ...,   1.20402090e-01\n",
      "   1.73287787e-01   7.35136288e-02]\n"
     ]
    }
   ],
   "source": [
    "import numpy as np\n",
    "import matplotlib.pyplot as plt\n",
    "\n",
    "def plotSpectrum(y,Fs):\n",
    "    \"\"\"\n",
    "    Plots a Single-Sided Amplitude Spectrum of y(t)\n",
    "    \"\"\"\n",
    "    n = len(y) # length of the signal\n",
    "    k = np.arange(n)\n",
    "    T = n/Fs\n",
    "    frq = k/T # two sides frequency range\n",
    "    frq = frq[range(n//2)] # one side frequency range\n",
    "    \n",
    "    Y = np.fft.fft(y)/n # fft computing and normalization\n",
    "    Y = Y[range(n//2)]\n",
    "\n",
    "    plt.plot(frq,abs(Y),'r') # plotting the spectrum\n",
    "    plt.xlabel('Freq (Hz)')\n",
    "    plt.ylabel('|Y(Freq)|')\n",
    "    \n",
    "    plt.show()\n",
    "    \n",
    "def energy(signal):\n",
    "    return signal**2    \n",
    "\n",
    "def dftWindows(windows):\n",
    "    dftwin = []\n",
    "    for w  in windows:\n",
    "        dftw = np.fft.fft(w)\n",
    "    \n",
    "def gaussian(x, mu, sig):\n",
    "    return np.exp(-np.power(x - mu, 2.) / (2 * np.power(sig, 2.)))\n",
    "    \n",
    "def melFrequency(f):\n",
    "    return 1127 * np.log(1 + f/700)\n",
    "\n",
    "def bark(f):\n",
    "    a = 1\n",
    "    return 13 * a * tan(f/1315.8) + 3.5 * a * tan(f/7518)\n",
    "\n",
    "def logFrequency(f):\n",
    "    return np.log2(f/1000)\n",
    "\n",
    "def logAttackTime(attackStart, attackEnd):\n",
    "    return np.log10(attackEnd - attackStart)\n",
    "\n",
    "def temporalIncrease(attackStart, attackEnd, signal, mu = 0, sig = 0.5):\n",
    "    averageEnergy = np.zeros(attackStart.size)\n",
    "    for i, (s,e) in enumerate (zip(attackStart, attackEnd)):\n",
    "        g = gaussian(np.linspace(-0.5, 0.5, e-s), mu, sig)    \n",
    "        averageEnergy[i] = ( (signal[s:e]**2)*g ).mean()\n",
    "    return averageEnergy\n",
    "\n",
    "def temporalCentroid(signal,sampleRate):\n",
    "    t = np.arange(0,signal.size,1)/sampleRate\n",
    "    return sum( (signal**2)*t) / sum ((signal**2)) \n",
    "    \n",
    "\n",
    "def findVoicedSegmants(signal, t, hold = 0):\n",
    "    tVal = signal.max() * t\n",
    "    signVariationArray = np.diff(np.sign(signal - tVal))\n",
    "    (signVariationIdx,) = np.nonzero(signVariationArray)\n",
    "    signVariationIdx = signVariationIdx.astype(float)\n",
    "    \n",
    "    signVariationIdx = np.insert(signVariationIdx,-1,float('inf'))\n",
    "    signVariationIdx[-2:] = signVariationIdx[-1],signVariationIdx[-2]\n",
    "    \n",
    "    shiftIdx = np.zeros_like(signVariationIdx)\n",
    "    shiftIdx[0] = float('-inf')\n",
    "    shiftIdx[1:] = signVariationIdx[:-1]\n",
    "    \n",
    "    endSegments = shiftIdx[(abs(shiftIdx  - signVariationIdx)>hold)][1:]\n",
    "    startSegments = signVariationIdx[(abs(shiftIdx  - signVariationIdx)>hold)][:-1]\n",
    "    \n",
    "    return (np.vstack((startSegments, endSegments)) ).astype(int)\n",
    "\n",
    "def signalAutoCorrelation(signal, it_limit=None):\n",
    "    signalLength = signal.size\n",
    "    \n",
    "    if it_limit == None:\n",
    "        it_limit = signalLength\n",
    "        \n",
    "    signalCorrelation = np.zeros(it_limit)\n",
    "    \n",
    "    for i in range(it_limit):\n",
    "        signalCorrelation[i] = sum(signal[0:signalLength-i] * signal[i:]) \n",
    "    return signalCorrelation\n",
    "\n",
    "\n",
    "def energyVoicedSegments(signal, t, hold = 0):\n",
    "    vs = findVoicedSegmants(signal, t, hold)\n",
    "    energyVoice = 0\n",
    "    for (s,e) in zip(attackStart, attackEnd):\n",
    "        energyVoice += sum(energy(signal[s:e]))\n",
    "    return energyVoice\n",
    "    \n",
    "def energyUnvoicedSegments(signal, t, hold = 0):\n",
    "    return sum(energy(signal)) - energyVoicedSegments(signal,t,hold)\n",
    "\n",
    "\n",
    "def spectralCentroid(signal, sampleRate):\n",
    "    \n",
    "    n = len(signal) # length of the signal\n",
    "    k = np.arange(n)\n",
    "    T = n/sampleRate\n",
    "    frq = k/T # two sides frequency range\n",
    "    frq = frq[range(n//2)] # one side frequency range\n",
    "    \n",
    "    Y = np.fft.fft(signal) # fft computing and normalization\n",
    "    Y = Y[range(n//2)]\n",
    "\n",
    "    F = np.arange(0,len(signal),1)/T\n",
    "    \n",
    "    print(frq)\n",
    "    print(F)\n",
    "    print(abs(Y))\n",
    "    \n",
    "    #plt.plot(frq,abs(Y),'r') # plotting the spectrum\n",
    "    #plt.xlabel('Freq (Hz)')\n",
    "    #plt.ylabel('|Y(Freq)|')\n",
    "    \n",
    "    #plt.show()\n",
    "    \n",
    "    #T = len(y)/Fs\n",
    "    \n",
    "    \n",
    "    #frq = np.arange(len(y))/T # two sides frequency range\n",
    "    #frq = frq[range(n//2)] # one side frequency range\n",
    "    \n",
    "    #frequency = np.arange(len(signal)//2)/sampleRate\n",
    "\n",
    "#plotSpectrum(A,48000)\n",
    "spectralCentroid(A,48000)\n",
    "#vs = findVoicedSegmants(A,0.02,4000)\n",
    "#attackStart = vs[0,:]\n",
    "#attackEnd = vs[1,:]\n",
    "#k = energyVoicedSegments(A, 0.02, hold = 4000)\n",
    "#k2 = energyUnvoicedSegments(A, 0.02, hold = 4000)\n",
    "#print(attackStart.size)\n",
    "#temporalIncrease(attackStart, attackEnd, A)\n",
    "#print(temporalCentroid(A,48000))\n",
    "#k = signalAutoCorrelation(A, 12)\n",
    "\n",
    "#print(k, k2)\n"
   ]
  },
  {
   "cell_type": "code",
   "execution_count": null,
   "metadata": {},
   "outputs": [],
   "source": [
    "import matplotlib.pyplot as plt\n",
    "import matplotlib.image as mpimg \n",
    "import matplotlib.patches as patches\n",
    "import cv2\n",
    "import scipy.misc\n",
    "import dlib\n",
    "import numpy as np\n",
    "\n",
    "im = mpimg.imread('../faces/faces3-0.jpg') \n",
    "\n",
    "detector = dlib.get_frontal_face_detector()\n",
    "predictor = dlib.shape_predictor('/home/paula/Desktop/Personality_recognition/shape_predictor_68_face_landmarks.dat')\n",
    "\n",
    "def rgb2gray(rgbImg):\n",
    "    return np.dot(rgbImg[...,:3], [0.299, 0.587, 0.114])\n",
    "\n",
    "gray = rgb2gray(im).astype(np.uint8)\n",
    "rect = detector(gray,1)\n",
    "\n",
    "for r in rect:\n",
    "    \n",
    "    fig,ax = plt.subplots(1)\n",
    "    ax.imshow(gray,cmap='gray')\n",
    "    x = patches.Rectangle((r.left(),r.top()),r.width(),r.height(),linewidth=1,edgecolor='r',facecolor='none')\n",
    "    #ax.add_patch(x)\n",
    "    \n",
    "    s = predictor(gray,r)\n",
    "    \n",
    "    for p in list(s.parts()):\n",
    "        print(p)\n",
    "        c = patches.Circle( (p.x, p.y) , 5)\n",
    "        ax.add_patch(c)\n",
    "        \n",
    "    plt.show()\n",
    "        "
   ]
  },
  {
   "cell_type": "code",
   "execution_count": null,
   "metadata": {},
   "outputs": [],
   "source": [
    "import matplotlib.pyplot as plt\n",
    "import os\n",
    "import cv2\n",
    "\n",
    "def saveFrames(filename, frames, region=None):\n",
    "    if region:\n",
    "        L, R, T, B = region   \n",
    "    else:\n",
    "        L, R, T, B = (0,frames[0].shape[0],0,frames[0].shape[1])\n",
    "    \n",
    "    for i, f in enumerate(frames):\n",
    "        \n",
    "        cv2.imwrite(filename + str(i) + \".jpg\", f[L:R,T:B,::-1])\n",
    "\n",
    "region = (100, 950, 650, 1250)\n",
    "\n",
    "for idx, row in df.iterrows():\n",
    "    fileDir = \"../faces/\"\n",
    "    print(idx, row['File'], row['Time_start'], row['Time_duration'])\n",
    "    frames = vio.readFrames(filename=row['File'], start=row['Time_start'], duration=row['Time_duration'],framedrop=10)\n",
    "    fileDir = fileDir + 'faces' + str(idx) + '-' \n",
    "    print(fileDir)\n",
    "    saveFrames(fileDir, frames, region=region)\n"
   ]
  },
  {
   "cell_type": "code",
   "execution_count": null,
   "metadata": {
    "collapsed": true
   },
   "outputs": [],
   "source": [
    "matplotlib inline\n",
    "import numpy as np\n",
    "#import cv2\n",
    "#import matplotlib.pyplot as plt\n",
    "#import matplotlib.image as pmimg\n",
    "#import IPython.display\n",
    "#import pandas as pd\n",
    "#from sklearn.model_selection import train_test_split\n",
    "#import gc\n",
    "#from matplotlib import gridspec"
   ]
  },
  {
   "cell_type": "code",
   "execution_count": null,
   "metadata": {
    "collapsed": true
   },
   "outputs": [],
   "source": [
    "# Read data and getting full file path\n",
    "df = pd.read_csv('../data.csv')\n",
    "filesDir = '../Database/'\n",
    "df['File'] = df.File.str[-16:]\n",
    "df['File'] = filesDir + df['File']\n",
    "df = df.rename(columns={'Time_duration (mm:ss)': 'Time_duration','Time_start (mm:ss.ms)':'Time_start'})\n",
    "#print(df.head(5))"
   ]
  },
  {
   "cell_type": "code",
   "execution_count": null,
   "metadata": {
    "collapsed": true
   },
   "outputs": [],
   "source": [
    "filename = df['File'][0] \n",
    "start = df['Time_start'][0]\n",
    "duration = df['Time_duration'][0]\n"
   ]
  },
  {
   "cell_type": "code",
   "execution_count": null,
   "metadata": {
    "collapsed": true
   },
   "outputs": [],
   "source": [
    "#Audio plot functions\n",
    "         \n",
    "def plotSpectrum(signal,Fs):\n",
    "    \n",
    "    n = len(signal)\n",
    "    \n",
    "    freqs = (np.arange(n) * Fs)/n\n",
    "    freqs = freqs[:n//2]\n",
    "    \n",
    "    Y = fft(signal) \n",
    "    Y = Y[:n//2]\n",
    "    \n",
    "    plt.plot(freqs,abs(Y)) # plotting the spectrum\n",
    "    xlabel('Freq (Hz)')\n",
    "    ylabel('|Y(Freq)|')\n",
    "    \n",
    "plotSpectrum (A,48000)    "
   ]
  },
  {
   "cell_type": "code",
   "execution_count": null,
   "metadata": {
    "collapsed": true
   },
   "outputs": [],
   "source": [
    "A = readAudio(filename,duration,start,mono=True)\n",
    "A = normalize(A,normRange=[-1,1])\n",
    "A = removeDC(A)"
   ]
  },
  {
   "cell_type": "code",
   "execution_count": null,
   "metadata": {
    "collapsed": true
   },
   "outputs": [],
   "source": [
    "t = 0.012\n",
    "l = 10000\n",
    "test =np.sqrt(EA)\n",
    "s = findVoicedSemants(abs(A),t,l)\n",
    "print(s)\n",
    "print(len(s))\n",
    "plotAudio(test)\n",
    "IPython.display.display(IPython.display.Audio(A, rate=48000))\n",
    "for p in s:\n",
    "    IPython.display.display(IPython.display.Audio(A[p[0]:p[1]], rate=48000))\n",
    "    #seg = np.zeros_like(test)\n",
    "    #seg[p[0]:p[1]] = test[p[0]:p[1]]\n",
    "    #plotAudio(seg,Yrange=[0,1])"
   ]
  },
  {
   "cell_type": "code",
   "execution_count": null,
   "metadata": {
    "collapsed": true,
    "scrolled": true
   },
   "outputs": [],
   "source": [
    "IPython.display.display(IPython.display.Audio(A, rate=48000))\n",
    "IPython.display.display(IPython.display.Audio(A[32761:80299], rate=48000))\n",
    "IPython.display.display(IPython.display.Audio(A[117627:179958], rate=48000))\n",
    "IPython.display.display(IPython.display.Audio(A[225978:265026], rate=48000))\n"
   ]
  },
  {
   "cell_type": "code",
   "execution_count": null,
   "metadata": {
    "collapsed": true
   },
   "outputs": [],
   "source": [
    "EEA = energyEnvelop(A,100)\n",
    "EA = energy(A)\n",
    "plotAudio(A[:50000],title='A')\n",
    "plotAudio(EA[:50000],title='EA')\n",
    "plotAudio(np.sqrt(EA)[:100000],title='srtq EA')\n",
    "plotAudio(EEA[:50000],title='EEA')\n",
    "#EA2 = EA.copy()\n",
    "#EA2[EA2<0.01]=0\n",
    "#plotAudio(EA2[300:850])"
   ]
  },
  {
   "cell_type": "code",
   "execution_count": null,
   "metadata": {
    "collapsed": true
   },
   "outputs": [],
   "source": [
    "A1 = readAudio(filename,duration,start, normRange=[-1,1],mono=True)\n",
    "A2 = readAudio(filename,duration, mono=True)\n",
    "A1 = removeDC(A1)\n",
    "A2 = removeDC(A2)"
   ]
  },
  {
   "cell_type": "code",
   "execution_count": null,
   "metadata": {
    "collapsed": true
   },
   "outputs": [],
   "source": [
    "plotAudio(A1)\n",
    "plotAudio(A2)"
   ]
  },
  {
   "cell_type": "code",
   "execution_count": null,
   "metadata": {
    "collapsed": true
   },
   "outputs": [],
   "source": [
    "#A2 , RA, OA = readAudio('../myFile.mp4',duration)\n",
    "\n",
    "IPython.display.display(IPython.display.Audio(A, rate=48000))\n",
    "#IPython.display.display(IPython.display.Audio(A2, rate=48000))"
   ]
  },
  {
   "cell_type": "code",
   "execution_count": null,
   "metadata": {
    "collapsed": true
   },
   "outputs": [],
   "source": [
    "plotAudio(A,48000)\n",
    "plotAudio(A2,48000)\n",
    "print(A.size)\n",
    "print(sr)"
   ]
  },
  {
   "cell_type": "code",
   "execution_count": null,
   "metadata": {
    "collapsed": true
   },
   "outputs": [],
   "source": [
    "fa = np.fft.fft(A)\n",
    "\n",
    "x = np.abs(fa)\n",
    "print(x.min())\n",
    "print(x.max())\n",
    "\n",
    "fa[np.abs(fa) < 5]=0\n",
    "\n",
    "out = np.fft.ifft(fa)\n",
    "out = out.real\n",
    "#fpass = np.zeros_like(fa)\n",
    "#perc = 0.001\n",
    "#n = fa.size\n",
    "#cut = int(n*perc)\n",
    "#fpass[cut+1:-cut]=1\n",
    "#ff = fpass * fa\n",
    "#out = np.fft.ifft(ff)\n",
    "#out = out.real\n",
    "\n",
    "plotAudio(A[0:50000])\n",
    "plotAudio(out[0:50000])\n",
    "\n",
    "#print(cut)\n",
    "#print(A[:100])\n",
    "#print(out[:100])"
   ]
  },
  {
   "cell_type": "code",
   "execution_count": null,
   "metadata": {
    "collapsed": true
   },
   "outputs": [],
   "source": [
    "IPython.display.display(IPython.display.Audio(out[:100000], rate=sr))\n",
    "IPython.display.display(IPython.display.Audio(A[:100000], rate=sr))"
   ]
  },
  {
   "cell_type": "code",
   "execution_count": null,
   "metadata": {
    "collapsed": true
   },
   "outputs": [],
   "source": [
    "B = np.copy(A)\n",
    "#block = 100\n",
    "#tr = 0.00000000000000001\n",
    "#for i in range(block, B.size, block):\n",
    "#    if ( (B[i-block:i+block]<tr).all() ):\n",
    "#        B[i-block:i+block]=0\n",
    "\n",
    "#B[np.abs(B)<0.01]=0\n",
    "B[:32000]=0\n",
    "B[80000:100000]=0\n",
    "plotAudio(A[0:100000])\n",
    "plotAudio(B[0:100000])\n",
    "#plotAudio(out[0:100000])\n",
    "#print(np.abs(A).mean())\n",
    "#print(B[:100])"
   ]
  },
  {
   "cell_type": "code",
   "execution_count": null,
   "metadata": {
    "collapsed": true
   },
   "outputs": [],
   "source": [
    "IPython.display.display(IPython.display.Audio(B[:100000], rate=sr))\n",
    "IPython.display.display(IPython.display.Audio(A[:100000], rate=sr))"
   ]
  },
  {
   "cell_type": "code",
   "execution_count": null,
   "metadata": {
    "collapsed": true
   },
   "outputs": [],
   "source": [
    "import cv2\n",
    "hog = cv2.HOGDescriptor()\n",
    "im = cv2.imread()\n",
    "print(im)\n",
    "#h = hog.compute(im)\n"
   ]
  },
  {
   "cell_type": "code",
   "execution_count": null,
   "metadata": {
    "collapsed": true
   },
   "outputs": [],
   "source": [
    "face_cascade = cv2.CascadeClassifier('/home/eu/anaconda3/pkgs/opencv3-3.1.0-py36_0/share/OpenCV/haarcascades/haarcascade_frontalface_alt.xml')\n",
    "# eye_cascade = cv2.CascadeClassifier('/home/eu/anaconda3/pkgs/opencv3-3.1.0-py36_0/share/OpenCV/haarcascades/haarcascade_eye.xml')\n",
    "\n",
    "#I = pmimg.imread('./Lenna.png')\n",
    "#I = cv2.imread('./Lenna.png')\n",
    "I = lastImg\n",
    "#if (I.dtype.kind == 'f'):\n",
    "#    I = (I * 255).astype(np.uint8)\n",
    "    \n",
    "#print('I:\\n',I[:5,:5,0])\n",
    "gray = cv2.cvtColor(I, cv2.COLOR_RGB2GRAY)\n",
    "gray = gray[100:,500:1400]\n",
    "Ialt = I[100:,500:1400]\n",
    "#plt.imshow(gray, cmap='gray')\n",
    "#print('gray antes:\\n',gray[:5,:5])\n",
    "#gray = gray.astype(np.uint8)\n",
    "#print('gray depois:\\n',gray[:5,:5])\n",
    "#plt.figure(1)\n",
    "#plt.imshow(gray,cmap='gray')\n",
    "\n",
    "faces = face_cascade.detectMultiScale(gray, 1.3, 5)\n",
    "print(faces)\n",
    "(x,y,w,h) = faces[0]\n",
    "roi_I = Ialt[y:y+h, x:x+w,:]\n",
    "plt.figure(1)\n",
    "plt.subplot(121)\n",
    "plt.imshow(Ialt)\n",
    "plt.subplot(122)\n",
    "plt.imshow(roi_I)\n"
   ]
  },
  {
   "cell_type": "code",
   "execution_count": null,
   "metadata": {
    "collapsed": true
   },
   "outputs": [],
   "source": [
    "def shape_to_np(shape, dtype=\"int\"):\n",
    "    # initialize the list of (x, y)-coordinates\n",
    "    coords = np.zeros((68, 2), dtype=dtype)\n",
    " \n",
    "    # loop over the 68 facial landmarks and convert them\n",
    "    # to a 2-tuple of (x, y)-coordinates\n",
    "    for i in range(0, 68):\n",
    "        coords[i] = (shape.part(i).x, shape.part(i).y)\n",
    " \n",
    "    # return the list of (x, y)-coordinates\n",
    "    return coords"
   ]
  },
  {
   "cell_type": "code",
   "execution_count": null,
   "metadata": {
    "collapsed": true
   },
   "outputs": [],
   "source": [
    "def rect_to_bb(rect):\n",
    "    # take a bounding predicted by dlib and convert it\n",
    "    # to the format (x, y, w, h) as we would normally do\n",
    "    # with OpenCV\n",
    "    x = rect.left()\n",
    "    y = rect.top()\n",
    "    w = rect.right() - x\n",
    "    h = rect.bottom() - y\n",
    " \n",
    "    # return a tuple of (x, y, w, h)\n",
    "    return (x, y, w, h)"
   ]
  },
  {
   "cell_type": "code",
   "execution_count": null,
   "metadata": {
    "collapsed": true
   },
   "outputs": [],
   "source": [
    "%matplotlib inline\n",
    "import scipy.misc\n",
    "import numpy as np\n",
    "import argparse\n",
    "import dlib\n",
    "import cv2\n",
    "import matplotlib.pyplot as plt\n",
    "import matplotlib.image as pmimg\n",
    "\n",
    "#ap = argparse.ArgumentParser()\n",
    "#ap.add_argument(\"-p\", \"--shape-predictor\", required=True,\n",
    "#    help=\"path to facial landmark predictor\")\n",
    "#ap.add_argument(\"-i\", \"--image\", required=True,\n",
    "#    help=\"path to input image\")\n",
    "#args = vars(ap.parse_args())\n",
    "\n",
    "# initialize dlib's face detector (HOG-based) and then create\n",
    "# the facial landmark predictor\n",
    "detector = dlib.get_frontal_face_detector()\n",
    "#predictor = dlib.shape_predictor(args[\"shape_predictor\"])\n",
    "predictor = dlib.shape_predictor(\"./shape_predictor_68_face_landmarks.dat\")\n",
    "#I = pmimg.imread('./Lenna.png')\n",
    "#I = lastImg\n",
    "Ialt = lastImg[100:,500:1400]\n",
    "#Ialt = pmimg.imread('./Lenna.png')\n",
    "Ir = scipy.misc.imresize(Ialt,(500,500))\n",
    "plt.figure(2)\n",
    "gray = cv2.cvtColor(Ir, cv2.COLOR_RGB2GRAY)\n",
    "\n",
    "# detect faces in the grayscale image\n",
    "rects = detector(gray, 1)\n",
    "faces = face_cascade.detectMultiScale(gray, 1.3, 5)\n",
    "#shape2 = predictor(gray, faces[0])\n",
    "print('rec:', rects)\n",
    "print('faces:', faces)\n",
    "# loop over the face detections\n",
    "for (i, rect) in enumerate(rects):\n",
    "    # determine the facial landmarks for the face region, then\n",
    "    # convert the facial landmark (x, y)-coordinates to a NumPy\n",
    "    # array\n",
    "    \n",
    "    shape = predictor(gray, rect)\n",
    "    shape = shape_to_np(shape)\n",
    "    print(shape.shape)\n",
    "    # convert dlib's rectangle to a OpenCV-style bounding box\n",
    "    # [i.e., (x, y, w, h)], then draw the face bounding box\n",
    "    (x, y, w, h) = rect_to_bb(rect)\n",
    "    \n",
    "    x1 = rect.left()\n",
    "    y1 = rect.top()\n",
    "    x2 = rect.right()\n",
    "    y2 = rect.bottom();\n",
    "    \n",
    "    #cv2.rectangle(Ir, (x, y), (x + w, y + h), (0, 255, 0), 2)\n",
    "    #cv2.rectangle(Ir, (x1, y1), (x2, y2), (0, 255, 0), 2)\n",
    "    \n",
    "    # show the face number\n",
    "    #cv2.putText(Ir, \"Face #{}\".format(i + 1), (x - 10, y - 10),\n",
    "    #    cv2.FONT_HERSHEY_SIMPLEX, 0.5, (0, 255, 0), 2)\n",
    " \n",
    "    # loop over the (x, y)-coordinates for the facial landmarks\n",
    "    # and draw them on the image\n",
    "    for (x, y) in shape:\n",
    "        cv2.circle(Ir, (x, y), 1, (0, 0, 255), -1)\n",
    "\n",
    "        \n",
    "plt.figure(1)\n",
    "#plt.subplot(121)\n",
    "plt.imshow(Ir)\n",
    "plt.axis('off')\n",
    "#plt.subplot(122)\n",
    "#plt.imshow(Ir)        \n",
    "\n",
    "# show the output image with the face detections + facial landmarks\n",
    "#cv2.imshow(\"Output\", Ir)\n",
    "#cv2.waitKey(0)"
   ]
  }
 ],
 "metadata": {
  "kernelspec": {
   "display_name": "Python 3",
   "language": "python",
   "name": "python3"
  },
  "language_info": {
   "codemirror_mode": {
    "name": "ipython",
    "version": 3
   },
   "file_extension": ".py",
   "mimetype": "text/x-python",
   "name": "python",
   "nbconvert_exporter": "python",
   "pygments_lexer": "ipython3",
   "version": "3.6.1"
  }
 },
 "nbformat": 4,
 "nbformat_minor": 2
}

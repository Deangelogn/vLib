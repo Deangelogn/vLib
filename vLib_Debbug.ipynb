{
 "cells": [
  {
   "cell_type": "code",
   "execution_count": 1,
   "metadata": {
    "collapsed": true
   },
   "outputs": [],
   "source": [
    "import videoIO as vio\n",
    "import vfeatures as fv\n",
    "import pandas as pd\n",
    "\n",
    "df = pd.read_csv('../data.csv')\n",
    "filesDir = '../Database/'\n",
    "df['File'] = df.File.str[-16:]\n",
    "df['File'] = filesDir + df['File']\n",
    "df = df.rename(columns={'Time_duration (mm:ss)': 'Time_duration','Time_start (mm:ss.ms)':'Time_start'})\n",
    "\n",
    "filename = df['File'][0] \n",
    "start = df['Time_start'][0]\n",
    "duration = df['Time_duration'][0]\n",
    "\n"
   ]
  },
  {
   "cell_type": "code",
   "execution_count": 8,
   "metadata": {},
   "outputs": [
    {
     "name": "stdout",
     "output_type": "stream",
     "text": [
      "0 ../Database//579_0006_01.MP4 00:51.0 00:24.5\n",
      "../faces/faces0-\n",
      "1 ../Database//579_0006_01.MP4 02:58.0 00:24.0\n",
      "../faces/faces1-\n",
      "2 ../Database//579_0006_01.MP4 03:52.5 00:33.0\n",
      "../faces/faces2-\n",
      "3 ../Database//579_0006_01.MP4 04:49.0 00:29.0\n",
      "../faces/faces3-\n",
      "4 ../Database//579_0006_01.MP4 06:32.0 00:29.0\n",
      "../faces/faces4-\n",
      "5 ../Database//579_0006_01.MP4 07:14.0 00:33.0\n",
      "../faces/faces5-\n",
      "6 ../Database//579_0006_01.MP4 08:06.5 00:20.0\n",
      "../faces/faces6-\n",
      "7 ../Database//579_0006_01.MP4 08:42.5 00:22.0\n",
      "../faces/faces7-\n",
      "8 ../Database//579_0006_01.MP4 09:21.0 00:24.5\n",
      "../faces/faces8-\n",
      "9 ../Database//579_0006_01.MP4 11:01.0 00:24.5\n",
      "../faces/faces9-\n",
      "10 ../Database//579_0006_01.MP4 11:37.0 00:32.0\n",
      "../faces/faces10-\n",
      "11 ../Database//579_0006_01.MP4 12:30.5 00:26.5\n",
      "../faces/faces11-\n",
      "12 ../Database//579_0006_01.MP4 13:10.0 00:07.0\n",
      "../faces/faces12-\n",
      "13 ../Database//579_0006_02.MP4 00:00.0 00:24.0\n",
      "../faces/faces13-\n",
      "14 ../Database//579_0006_02.MP4 0:40.0 00:32.0\n",
      "../faces/faces14-\n",
      "15 ../Database//579_0006_02.MP4 02:42.6 00:24.5\n",
      "../faces/faces15-\n",
      "16 ../Database//579_0006_02.MP4 03:23.0 00:25.5\n",
      "../faces/faces16-\n",
      "17 ../Database//579_0006_02.MP4 04:05.0 00:33.5\n",
      "../faces/faces17-\n",
      "18 ../Database//579_0006_02.MP4 06:10.0 00:29.0\n",
      "../faces/faces18-\n",
      "19 ../Database//579_0006_02.MP4 07:03.0 00:35.0\n",
      "../faces/faces19-\n",
      "20 ../Database//579_0006_02.MP4 10:22.0 00:40.0\n",
      "../faces/faces20-\n",
      "21 ../Database//579_0009_01.MP4 09:50.2 00:18.0\n",
      "../faces/faces21-\n",
      "22 ../Database//579_0009_01.MP4 11:12.0 00:17.0\n",
      "../faces/faces22-\n",
      "23 ../Database//579_0009_01.MP4 12:18.5 00:19.5\n",
      "../faces/faces23-\n",
      "24 ../Database//579_0009_01.MP4 12:55.0 00:17.0\n",
      "../faces/faces24-\n",
      "25 ../Database//579_0009_02.MP4 00:00.0 00:03.0\n",
      "../faces/faces25-\n",
      "26 ../Database//579_0009_02.MP4 01:05.5 00:22.0\n",
      "../faces/faces26-\n",
      "27 ../Database//579_0009_02.MP4 01:39.5 00:19.5\n",
      "../faces/faces27-\n",
      "28 ../Database//579_0009_02.MP4 02:17.0 00:19.0\n",
      "../faces/faces28-\n",
      "29 ../Database//579_0009_02.MP4 03:20.4 00:19.0\n",
      "../faces/faces29-\n",
      "30 ../Database//579_0009_02.MP4 03:54.0 00:19.5\n",
      "../faces/faces30-\n",
      "31 ../Database//579_0009_02.MP4 05:14.0 00:26.5\n",
      "../faces/faces31-\n",
      "32 ../Database//579_0009_02.MP4 05:55.8 00:23.0\n",
      "../faces/faces32-\n",
      "33 ../Database//579_0009_02.MP4 06:35.5 00:22.8\n",
      "../faces/faces33-\n",
      "34 ../Database//579_0009_02.MP4 07:43.0 00:19.5\n",
      "../faces/faces34-\n",
      "35 ../Database//579_0009_02.MP4 08:33.0 00:23.0\n",
      "../faces/faces35-\n",
      "36 ../Database//579_0009_02.MP4 10:07.0 00:22.5\n",
      "../faces/faces36-\n",
      "37 ../Database//579_0009_02.MP4 10:48.0 00:26.0\n",
      "../faces/faces37-\n",
      "38 ../Database//579_0009_02.MP4 11:30.0 00:23.5\n",
      "../faces/faces38-\n",
      "39 ../Database//579_0009_02.MP4 12:11.0 00:23.0\n",
      "../faces/faces39-\n",
      "40 ../Database//579_0009_03.MP4 00:12.0 00:21.0\n",
      "../faces/faces40-\n",
      "41 ../Database//579_0009_03.MP4 00:47.0 00:18.5\n",
      "../faces/faces41-\n",
      "42 ../Database//579_0009_03.MP4 01:19.0 00:17.5\n",
      "../faces/faces42-\n",
      "43 ../Database//579_0163_01.MP4 07:53.5 00:20.0\n",
      "../faces/faces43-\n",
      "44 ../Database//579_0163_01.MP4 09:37.0 00:22.0\n",
      "../faces/faces44-\n",
      "45 ../Database//579_0163_01.MP4 10:12.5 00:24.5\n",
      "../faces/faces45-\n",
      "46 ../Database//579_0164_01.MP4 00:09.0 00:25.5\n",
      "../faces/faces46-\n",
      "47 ../Database//579_0164_01.MP4 00:44.5 00:28.5\n",
      "../faces/faces47-\n",
      "48 ../Database//579_0164_01.MP4 01:29.5 00:22.5\n",
      "../faces/faces48-\n",
      "49 ../Database//579_0164_01.MP4 02:10.0 00:37.0\n",
      "../faces/faces49-\n",
      "50 ../Database//579_0164_01.MP4 02:57.0 00:33.2\n",
      "../faces/faces50-\n",
      "51 ../Database//579_0164_01.MP4 04:53.0 00:24.0\n",
      "../faces/faces51-\n",
      "52 ../Database//579_0164_01.MP4 05:27.0 00:23.5\n",
      "../faces/faces52-\n",
      "53 ../Database//579_0164_01.MP4 06:01.5 00:22.0\n",
      "../faces/faces53-\n",
      "54 ../Database//579_0164_01.MP4 07:20.3 00:27.0\n",
      "../faces/faces54-\n",
      "55 ../Database//579_0164_01.MP4 08:32.0 00:30.5\n",
      "../faces/faces55-\n",
      "56 ../Database//579_0164_01.MP4 09:15.5 00:26.0\n",
      "../faces/faces56-\n",
      "57 ../Database//579_0164_01.MP4 10:01.0 00:23.2\n",
      "../faces/faces57-\n",
      "58 ../Database//579_0164_01.MP4 10:37.0 00:25.8\n",
      "../faces/faces58-\n",
      "59 ../Database//579_0164_01.MP4 11:19.0 00:21.5\n",
      "../faces/faces59-\n",
      "60 ../Database//579_0165_01.MP4 00:10.6 00:22.6\n",
      "../faces/faces60-\n",
      "61 ../Database//579_0165_01.MP4 00:49.0 00:28.5\n",
      "../faces/faces61-\n",
      "62 ../Database//579_0165_01.MP4 01:52.5 00:33.0\n",
      "../faces/faces62-\n",
      "63 ../Database//579_0165_01.MP4 02:39.0 00:27.0\n",
      "../faces/faces63-\n",
      "64 ../Database//579_0171_01.MP4 05:38.0 00:18.5\n",
      "../faces/faces64-\n",
      "65 ../Database//579_0171_01.MP4 06:31.0 00:25.5\n",
      "../faces/faces65-\n",
      "66 ../Database//579_0171_01.MP4 07:23.5 00:23.5\n",
      "../faces/faces66-\n",
      "67 ../Database//579_0171_01.MP4 08:29.5 00:21.5\n",
      "../faces/faces67-\n",
      "68 ../Database//579_0171_01.MP4 09:16.0 00:25.0\n",
      "../faces/faces68-\n",
      "69 ../Database//579_0171_01.MP4 10:08.5 00:29.0\n",
      "../faces/faces69-\n",
      "70 ../Database//579_0171_01.MP4 11:44.0 00:26.8\n",
      "../faces/faces70-\n",
      "71 ../Database//579_0171_01.MP4 12:31.0 00:24.3\n",
      "../faces/faces71-\n",
      "72 ../Database//579_0171_02.MP4 01:09.0 00:22.5\n",
      "../faces/faces72-\n",
      "73 ../Database//579_0171_02.MP4 02:57.0 00:21.4\n",
      "../faces/faces73-\n",
      "74 ../Database//579_0171_02.MP4 05:16.0 00:17.3\n",
      "../faces/faces74-\n",
      "75 ../Database//579_0171_02.MP4 06:19.0 00:20.5\n",
      "../faces/faces75-\n",
      "76 ../Database//579_0171_02.MP4 07:18.4 00:19.0\n",
      "../faces/faces76-\n",
      "77 ../Database//579_0171_02.MP4 08:27.3 00:18.8\n",
      "../faces/faces77-\n",
      "78 ../Database//579_0171_02.MP4 09:24.0 00:27.5\n",
      "../faces/faces78-\n",
      "79 ../Database//579_0171_02.MP4 10:19.5 00:23.5\n",
      "../faces/faces79-\n",
      "80 ../Database//579_0171_02.MP4 10:58.0 00:22.8\n",
      "../faces/faces80-\n",
      "81 ../Database//579_0171_02.MP4 12:05.0 00:20.3\n",
      "../faces/faces81-\n",
      "82 ../Database//579_0171_03.MP4 00:28.5 00:24.0\n",
      "../faces/faces82-\n",
      "83 ../Database//579_0171_03.MP4 01:03.0 00:23.5\n",
      "../faces/faces83-\n",
      "84 ../Database//579_0171_03.MP4 01:52.4 00:16.5\n",
      "../faces/faces84-\n",
      "85 ../Database//579_0171_03.MP4 03:04.8 00:19.7\n",
      "../faces/faces85-\n",
      "86 ../Database//579_0171_03.MP4 03:41.9 00:19.7\n",
      "../faces/faces86-\n",
      "87 ../Database//579_0171_03.MP4 04:28.0 00:25.0\n",
      "../faces/faces87-\n",
      "88 ../Database//579_0171_03.MP4 06:14.5 00:27.0\n",
      "../faces/faces88-\n",
      "89 ../Database//579_0171_03.MP4 07:01.0 00:31.0\n",
      "../faces/faces89-\n",
      "90 ../Database//579_0171_03.MP4 09:58.0 00:18.0\n",
      "../faces/faces90-\n",
      "91 ../Database//579_0171_03.MP4 11:33.2 00:19.7\n",
      "../faces/faces91-\n",
      "92 ../Database//579_0171_03.MP4 12:04.0 00:20.5\n",
      "../faces/faces92-\n"
     ]
    }
   ],
   "source": [
    "import matplotlib.pyplot as plt\n",
    "import os\n",
    "import cv2\n",
    "\n",
    "def saveFrames(filename, frames, region=None):\n",
    "    if region:\n",
    "        L, R, T, B = region   \n",
    "    else:\n",
    "        L, R, T, B = (0,frames[0].shape[0],0,frames[0].shape[1])\n",
    "    \n",
    "    for i, f in enumerate(frames):\n",
    "        \n",
    "        cv2.imwrite(filename + str(i) + \".jpg\", f[L:R,T:B,::-1])\n",
    "\n",
    "region = (100, 950, 650, 1250)\n",
    "\n",
    "for idx, row in df.iterrows():\n",
    "    fileDir = \"../faces/\"\n",
    "    print(idx, row['File'], row['Time_start'], row['Time_duration'])\n",
    "    frames = vio.readFrames(filename=row['File'], start=row['Time_start'], duration=row['Time_duration'],framedrop=10)\n",
    "    fileDir = fileDir + 'faces' + str(idx) + '-' \n",
    "    print(fileDir)\n",
    "    saveFrames(fileDir, frames, region=region)\n"
   ]
  },
  {
   "cell_type": "code",
   "execution_count": 104,
   "metadata": {},
   "outputs": [
    {
     "data": {
      "image/png": "[encoded data removed]",
      "text/plain": [
       "<matplotlib.figure.Figure at 0x7f24329e05f8>"
      ]
     },
     "metadata": {},
     "output_type": "display_data"
    }
   ],
   "source": [
    "import matplotlib.pyplot as plt\n",
    "import matplotlib.image as mpimg \n",
    "import matplotlib.patches as patches\n",
    "import cv2\n",
    "import scipy.misc\n",
    "import dlib\n",
    "import numpy as np\n",
    "\n",
    "im = mpimg.imread('../faces/faces0-0.jpg') \n",
    "\n",
    "detector = dlib.get_frontal_face_detector()\n",
    "predictor = dlib.shape_predictor('/home/paula/Desktop/shape_predictor_68_face_landmarks.dat')\n",
    "\n",
    "def rgb2gray(rgbImg):\n",
    "    return np.dot(rgbImg[...,:3], [0.299, 0.587, 0.114])\n",
    "\n",
    "gray = rgb2gray(im).astype(np.uint8)\n",
    "rect = detector(gray,1)\n",
    "\n",
    "for r in rect:\n",
    "    \n",
    "    fig,ax = plt.subplots(1)\n",
    "    ax.imshow(gray,cmap='gray')\n",
    "    x = patches.Rectangle((r.left(),r.top()),r.width(),r.height(),linewidth=1,edgecolor='r',facecolor='none')\n",
    "    ax.add_patch(x)\n",
    "    \n",
    "    s = predictor(gray,r)\n",
    "    \n",
    "    for p in list(s.parts()):\n",
    "        c = patches.Circle( (p.x, p.y) , 1)\n",
    "        ax.add_patch(c)\n",
    "        \n",
    "    plt.show()\n",
    "        "
   ]
  },
  {
   "cell_type": "code",
   "execution_count": null,
   "metadata": {
    "collapsed": true
   },
   "outputs": [],
   "source": [
    "matplotlib inline\n",
    "import numpy as np\n",
    "#import cv2\n",
    "#import matplotlib.pyplot as plt\n",
    "#import matplotlib.image as pmimg\n",
    "#import IPython.display\n",
    "#import pandas as pd\n",
    "#from sklearn.model_selection import train_test_split\n",
    "#import gc\n",
    "#from matplotlib import gridspec"
   ]
  },
  {
   "cell_type": "code",
   "execution_count": null,
   "metadata": {
    "collapsed": true
   },
   "outputs": [],
   "source": [
    "# Read data and getting full file path\n",
    "df = pd.read_csv('../data.csv')\n",
    "filesDir = '../Database/'\n",
    "df['File'] = df.File.str[-16:]\n",
    "df['File'] = filesDir + df['File']\n",
    "df = df.rename(columns={'Time_duration (mm:ss)': 'Time_duration','Time_start (mm:ss.ms)':'Time_start'})\n",
    "#print(df.head(5))"
   ]
  },
  {
   "cell_type": "code",
   "execution_count": null,
   "metadata": {
    "collapsed": true
   },
   "outputs": [],
   "source": [
    "filename = df['File'][0] \n",
    "start = df['Time_start'][0]\n",
    "duration = df['Time_duration'][0]\n"
   ]
  },
  {
   "cell_type": "code",
   "execution_count": null,
   "metadata": {
    "collapsed": true
   },
   "outputs": [],
   "source": [
    "#Audio plot functions\n",
    "         \n",
    "def plotSpectrum(signal,Fs):\n",
    "    \n",
    "    n = len(signal)\n",
    "    \n",
    "    freqs = (np.arange(n) * Fs)/n\n",
    "    freqs = freqs[:n//2]\n",
    "    \n",
    "    Y = fft(signal) \n",
    "    Y = Y[:n//2]\n",
    "    \n",
    "    plt.plot(freqs,abs(Y)) # plotting the spectrum\n",
    "    xlabel('Freq (Hz)')\n",
    "    ylabel('|Y(Freq)|')\n",
    "    \n",
    "plotSpectrum (A,48000)    "
   ]
  },
  {
   "cell_type": "code",
   "execution_count": null,
   "metadata": {
    "collapsed": true
   },
   "outputs": [],
   "source": [
    "def plotSpectru(y,Fs):\n",
    "    \"\"\"\n",
    "    Plots a Single-Sided Amplitude Spectrum of y(t)\n",
    "    \"\"\"\n",
    "    n = len(y) # length of the signal\n",
    "    k = arange(n)\n",
    "    T = n/Fs\n",
    "    frq = k/T # two sides frequency range\n",
    "    frq = frq[range(n//2)] # one side frequency range\n",
    "    \n",
    "    Y = fft(y)/n # fft computing and normalization\n",
    "    Y = Y[range(n//2)]\n",
    "\n",
    "    #frq = frq[:100000] \n",
    "    #Y = Y[:100000]\n",
    "    \n",
    "    plot(frq,abs(Y),'r') # plotting the spectrum\n",
    "    xlabel('Freq (Hz)')\n",
    "    ylabel('|Y(Freq)|')\n",
    "\n",
    "def dftWindows(windows):\n",
    "    dftwin = []\n",
    "    for w  in windows:\n",
    "        dftw = np.fft.fft(w)\n",
    "    \n",
    "def melFrequency(f):\n",
    "    return 1127 * np.log(1 + f/700)\n",
    "    \n",
    "    \n",
    "plotSpectru(A,48000)"
   ]
  },
  {
   "cell_type": "code",
   "execution_count": null,
   "metadata": {
    "collapsed": true
   },
   "outputs": [],
   "source": [
    "A = readAudio(filename,duration,start,mono=True)\n",
    "A = normalize(A,normRange=[-1,1])\n",
    "A = removeDC(A)"
   ]
  },
  {
   "cell_type": "code",
   "execution_count": null,
   "metadata": {
    "collapsed": true
   },
   "outputs": [],
   "source": [
    "t = 0.012\n",
    "l = 10000\n",
    "test =np.sqrt(EA)\n",
    "s = findVoicedSemants(abs(A),t,l)\n",
    "print(s)\n",
    "print(len(s))\n",
    "plotAudio(test)\n",
    "IPython.display.display(IPython.display.Audio(A, rate=48000))\n",
    "for p in s:\n",
    "    IPython.display.display(IPython.display.Audio(A[p[0]:p[1]], rate=48000))\n",
    "    #seg = np.zeros_like(test)\n",
    "    #seg[p[0]:p[1]] = test[p[0]:p[1]]\n",
    "    #plotAudio(seg,Yrange=[0,1])"
   ]
  },
  {
   "cell_type": "code",
   "execution_count": null,
   "metadata": {
    "collapsed": true,
    "scrolled": true
   },
   "outputs": [],
   "source": [
    "IPython.display.display(IPython.display.Audio(A, rate=48000))\n",
    "IPython.display.display(IPython.display.Audio(A[32761:80299], rate=48000))\n",
    "IPython.display.display(IPython.display.Audio(A[117627:179958], rate=48000))\n",
    "IPython.display.display(IPython.display.Audio(A[225978:265026], rate=48000))\n"
   ]
  },
  {
   "cell_type": "code",
   "execution_count": null,
   "metadata": {
    "collapsed": true
   },
   "outputs": [],
   "source": [
    "EEA = energyEnvelop(A,100)\n",
    "EA = energy(A)\n",
    "plotAudio(A[:50000],title='A')\n",
    "plotAudio(EA[:50000],title='EA')\n",
    "plotAudio(np.sqrt(EA)[:100000],title='srtq EA')\n",
    "plotAudio(EEA[:50000],title='EEA')\n",
    "#EA2 = EA.copy()\n",
    "#EA2[EA2<0.01]=0\n",
    "#plotAudio(EA2[300:850])"
   ]
  },
  {
   "cell_type": "code",
   "execution_count": null,
   "metadata": {
    "collapsed": true
   },
   "outputs": [],
   "source": [
    "A1 = readAudio(filename,duration,start, normRange=[-1,1],mono=True)\n",
    "A2 = readAudio(filename,duration, mono=True)\n",
    "A1 = removeDC(A1)\n",
    "A2 = removeDC(A2)"
   ]
  },
  {
   "cell_type": "code",
   "execution_count": null,
   "metadata": {
    "collapsed": true
   },
   "outputs": [],
   "source": [
    "plotAudio(A1)\n",
    "plotAudio(A2)"
   ]
  },
  {
   "cell_type": "code",
   "execution_count": null,
   "metadata": {
    "collapsed": true
   },
   "outputs": [],
   "source": [
    "#A2 , RA, OA = readAudio('../myFile.mp4',duration)\n",
    "\n",
    "IPython.display.display(IPython.display.Audio(A, rate=48000))\n",
    "#IPython.display.display(IPython.display.Audio(A2, rate=48000))"
   ]
  },
  {
   "cell_type": "code",
   "execution_count": null,
   "metadata": {
    "collapsed": true
   },
   "outputs": [],
   "source": [
    "plotAudio(A,48000)\n",
    "plotAudio(A2,48000)\n",
    "print(A.size)\n",
    "print(sr)"
   ]
  },
  {
   "cell_type": "code",
   "execution_count": null,
   "metadata": {
    "collapsed": true
   },
   "outputs": [],
   "source": [
    "fa = np.fft.fft(A)\n",
    "\n",
    "x = np.abs(fa)\n",
    "print(x.min())\n",
    "print(x.max())\n",
    "\n",
    "fa[np.abs(fa) < 5]=0\n",
    "\n",
    "out = np.fft.ifft(fa)\n",
    "out = out.real\n",
    "#fpass = np.zeros_like(fa)\n",
    "#perc = 0.001\n",
    "#n = fa.size\n",
    "#cut = int(n*perc)\n",
    "#fpass[cut+1:-cut]=1\n",
    "#ff = fpass * fa\n",
    "#out = np.fft.ifft(ff)\n",
    "#out = out.real\n",
    "\n",
    "plotAudio(A[0:50000])\n",
    "plotAudio(out[0:50000])\n",
    "\n",
    "#print(cut)\n",
    "#print(A[:100])\n",
    "#print(out[:100])"
   ]
  },
  {
   "cell_type": "code",
   "execution_count": null,
   "metadata": {
    "collapsed": true
   },
   "outputs": [],
   "source": [
    "IPython.display.display(IPython.display.Audio(out[:100000], rate=sr))\n",
    "IPython.display.display(IPython.display.Audio(A[:100000], rate=sr))"
   ]
  },
  {
   "cell_type": "code",
   "execution_count": null,
   "metadata": {
    "collapsed": true
   },
   "outputs": [],
   "source": [
    "B = np.copy(A)\n",
    "#block = 100\n",
    "#tr = 0.00000000000000001\n",
    "#for i in range(block, B.size, block):\n",
    "#    if ( (B[i-block:i+block]<tr).all() ):\n",
    "#        B[i-block:i+block]=0\n",
    "\n",
    "#B[np.abs(B)<0.01]=0\n",
    "B[:32000]=0\n",
    "B[80000:100000]=0\n",
    "plotAudio(A[0:100000])\n",
    "plotAudio(B[0:100000])\n",
    "#plotAudio(out[0:100000])\n",
    "#print(np.abs(A).mean())\n",
    "#print(B[:100])"
   ]
  },
  {
   "cell_type": "code",
   "execution_count": null,
   "metadata": {
    "collapsed": true
   },
   "outputs": [],
   "source": [
    "IPython.display.display(IPython.display.Audio(B[:100000], rate=sr))\n",
    "IPython.display.display(IPython.display.Audio(A[:100000], rate=sr))"
   ]
  },
  {
   "cell_type": "code",
   "execution_count": null,
   "metadata": {
    "collapsed": true
   },
   "outputs": [],
   "source": [
    "import cv2\n",
    "hog = cv2.HOGDescriptor()\n",
    "im = cv2.imread()\n",
    "print(im)\n",
    "#h = hog.compute(im)\n"
   ]
  },
  {
   "cell_type": "code",
   "execution_count": null,
   "metadata": {
    "collapsed": true
   },
   "outputs": [],
   "source": [
    "face_cascade = cv2.CascadeClassifier('/home/eu/anaconda3/pkgs/opencv3-3.1.0-py36_0/share/OpenCV/haarcascades/haarcascade_frontalface_alt.xml')\n",
    "# eye_cascade = cv2.CascadeClassifier('/home/eu/anaconda3/pkgs/opencv3-3.1.0-py36_0/share/OpenCV/haarcascades/haarcascade_eye.xml')\n",
    "\n",
    "#I = pmimg.imread('./Lenna.png')\n",
    "#I = cv2.imread('./Lenna.png')\n",
    "I = lastImg\n",
    "#if (I.dtype.kind == 'f'):\n",
    "#    I = (I * 255).astype(np.uint8)\n",
    "    \n",
    "#print('I:\\n',I[:5,:5,0])\n",
    "gray = cv2.cvtColor(I, cv2.COLOR_RGB2GRAY)\n",
    "gray = gray[100:,500:1400]\n",
    "Ialt = I[100:,500:1400]\n",
    "#plt.imshow(gray, cmap='gray')\n",
    "#print('gray antes:\\n',gray[:5,:5])\n",
    "#gray = gray.astype(np.uint8)\n",
    "#print('gray depois:\\n',gray[:5,:5])\n",
    "#plt.figure(1)\n",
    "#plt.imshow(gray,cmap='gray')\n",
    "\n",
    "faces = face_cascade.detectMultiScale(gray, 1.3, 5)\n",
    "print(faces)\n",
    "(x,y,w,h) = faces[0]\n",
    "roi_I = Ialt[y:y+h, x:x+w,:]\n",
    "plt.figure(1)\n",
    "plt.subplot(121)\n",
    "plt.imshow(Ialt)\n",
    "plt.subplot(122)\n",
    "plt.imshow(roi_I)\n"
   ]
  },
  {
   "cell_type": "code",
   "execution_count": null,
   "metadata": {
    "collapsed": true
   },
   "outputs": [],
   "source": [
    "def shape_to_np(shape, dtype=\"int\"):\n",
    "    # initialize the list of (x, y)-coordinates\n",
    "    coords = np.zeros((68, 2), dtype=dtype)\n",
    " \n",
    "    # loop over the 68 facial landmarks and convert them\n",
    "    # to a 2-tuple of (x, y)-coordinates\n",
    "    for i in range(0, 68):\n",
    "        coords[i] = (shape.part(i).x, shape.part(i).y)\n",
    " \n",
    "    # return the list of (x, y)-coordinates\n",
    "    return coords"
   ]
  },
  {
   "cell_type": "code",
   "execution_count": null,
   "metadata": {
    "collapsed": true
   },
   "outputs": [],
   "source": [
    "def rect_to_bb(rect):\n",
    "    # take a bounding predicted by dlib and convert it\n",
    "    # to the format (x, y, w, h) as we would normally do\n",
    "    # with OpenCV\n",
    "    x = rect.left()\n",
    "    y = rect.top()\n",
    "    w = rect.right() - x\n",
    "    h = rect.bottom() - y\n",
    " \n",
    "    # return a tuple of (x, y, w, h)\n",
    "    return (x, y, w, h)"
   ]
  },
  {
   "cell_type": "code",
   "execution_count": null,
   "metadata": {
    "collapsed": true
   },
   "outputs": [],
   "source": [
    "%matplotlib inline\n",
    "import scipy.misc\n",
    "import numpy as np\n",
    "import argparse\n",
    "import dlib\n",
    "import cv2\n",
    "import matplotlib.pyplot as plt\n",
    "import matplotlib.image as pmimg\n",
    "\n",
    "#ap = argparse.ArgumentParser()\n",
    "#ap.add_argument(\"-p\", \"--shape-predictor\", required=True,\n",
    "#    help=\"path to facial landmark predictor\")\n",
    "#ap.add_argument(\"-i\", \"--image\", required=True,\n",
    "#    help=\"path to input image\")\n",
    "#args = vars(ap.parse_args())\n",
    "\n",
    "# initialize dlib's face detector (HOG-based) and then create\n",
    "# the facial landmark predictor\n",
    "detector = dlib.get_frontal_face_detector()\n",
    "#predictor = dlib.shape_predictor(args[\"shape_predictor\"])\n",
    "predictor = dlib.shape_predictor(\"./shape_predictor_68_face_landmarks.dat\")\n",
    "#I = pmimg.imread('./Lenna.png')\n",
    "#I = lastImg\n",
    "Ialt = lastImg[100:,500:1400]\n",
    "#Ialt = pmimg.imread('./Lenna.png')\n",
    "Ir = scipy.misc.imresize(Ialt,(500,500))\n",
    "plt.figure(2)\n",
    "gray = cv2.cvtColor(Ir, cv2.COLOR_RGB2GRAY)\n",
    "\n",
    "# detect faces in the grayscale image\n",
    "rects = detector(gray, 1)\n",
    "faces = face_cascade.detectMultiScale(gray, 1.3, 5)\n",
    "#shape2 = predictor(gray, faces[0])\n",
    "print('rec:', rects)\n",
    "print('faces:', faces)\n",
    "# loop over the face detections\n",
    "for (i, rect) in enumerate(rects):\n",
    "    # determine the facial landmarks for the face region, then\n",
    "    # convert the facial landmark (x, y)-coordinates to a NumPy\n",
    "    # array\n",
    "    \n",
    "    shape = predictor(gray, rect)\n",
    "    shape = shape_to_np(shape)\n",
    "    print(shape.shape)\n",
    "    # convert dlib's rectangle to a OpenCV-style bounding box\n",
    "    # [i.e., (x, y, w, h)], then draw the face bounding box\n",
    "    (x, y, w, h) = rect_to_bb(rect)\n",
    "    \n",
    "    x1 = rect.left()\n",
    "    y1 = rect.top()\n",
    "    x2 = rect.right()\n",
    "    y2 = rect.bottom();\n",
    "    \n",
    "    #cv2.rectangle(Ir, (x, y), (x + w, y + h), (0, 255, 0), 2)\n",
    "    #cv2.rectangle(Ir, (x1, y1), (x2, y2), (0, 255, 0), 2)\n",
    "    \n",
    "    # show the face number\n",
    "    #cv2.putText(Ir, \"Face #{}\".format(i + 1), (x - 10, y - 10),\n",
    "    #    cv2.FONT_HERSHEY_SIMPLEX, 0.5, (0, 255, 0), 2)\n",
    " \n",
    "    # loop over the (x, y)-coordinates for the facial landmarks\n",
    "    # and draw them on the image\n",
    "    for (x, y) in shape:\n",
    "        cv2.circle(Ir, (x, y), 1, (0, 0, 255), -1)\n",
    "\n",
    "        \n",
    "plt.figure(1)\n",
    "#plt.subplot(121)\n",
    "plt.imshow(Ir)\n",
    "plt.axis('off')\n",
    "#plt.subplot(122)\n",
    "#plt.imshow(Ir)        \n",
    "\n",
    "# show the output image with the face detections + facial landmarks\n",
    "#cv2.imshow(\"Output\", Ir)\n",
    "#cv2.waitKey(0)"
   ]
  }
 ],
 "metadata": {
  "kernelspec": {
   "display_name": "Python 3",
   "language": "python",
   "name": "python3"
  },
  "language_info": {
   "codemirror_mode": {
    "name": "ipython",
    "version": 3
   },
   "file_extension": ".py",
   "mimetype": "text/x-python",
   "name": "python",
   "nbconvert_exporter": "python",
   "pygments_lexer": "ipython3",
   "version": "3.6.1"
  }
 },
 "nbformat": 4,
 "nbformat_minor": 2
}

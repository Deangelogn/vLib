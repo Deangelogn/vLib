{
 "cells": [
  {
   "cell_type": "code",
   "execution_count": 1,
   "metadata": {
    "collapsed": true
   },
   "outputs": [],
   "source": [
    "import pylab\n",
    "import imageio\n",
    "import scipy.misc\n",
    "\n",
    "E=6\n",
    "skip = 15"
   ]
  },
  {
   "cell_type": "code",
   "execution_count": 28,
   "metadata": {},
   "outputs": [
    {
     "name": "stdout",
     "output_type": "stream",
     "text": [
      "/home/eu/Desktop/Dataset_times/Indv1/I1_P1_E6.mp4\n",
      "/home/eu/Desktop/Dataset_times/Indv1/I1_P2_E6.mp4\n",
      "/home/eu/Desktop/Dataset_times/Indv1/I1_P3_E6.mp4\n",
      "/home/eu/Desktop/Dataset_times/Indv2/I2_P1_E6.mp4\n",
      "/home/eu/Desktop/Dataset_times/Indv2/I2_P2_E6.mp4\n",
      "/home/eu/Desktop/Dataset_times/Indv2/I2_P3_E6.mp4\n",
      "/home/eu/Desktop/Dataset_times/Indv3/I3_P1_E6.mp4\n",
      "/home/eu/Desktop/Dataset_times/Indv3/I3_P2_E6.mp4\n",
      "/home/eu/Desktop/Dataset_times/Indv3/I3_P3_E6.mp4\n",
      "/home/eu/Desktop/Dataset_times/Indv4/I4_P1_E6.mp4\n",
      "/home/eu/Desktop/Dataset_times/Indv4/I4_P2_E6.mp4\n",
      "/home/eu/Desktop/Dataset_times/Indv4/I4_P3_E6.mp4\n"
     ]
    }
   ],
   "source": [
    "for i in range(1,5):\n",
    "    for p in range(1,4):\n",
    "        videoname = '/home/eu/Desktop/Dataset_times/Indv'+str(i)+'/I'+str(i)+'_P'+str(p)+'_E'+str(E)+'.mp4'\n",
    "        print(videoname)\n",
    "        vid = imageio.get_reader(videoname,  'ffmpeg')\n",
    "        nf=vid._meta['nframes']\n",
    "        \n",
    "        for num in range (0,nf):\n",
    "            if (num%skip==0):\n",
    "                frame = vid.get_data(num)\n",
    "                filename = '/home/eu/Desktop/Dataset_times/Emotions/'+ str(E)+'/I'+str(i)+'_P'+str(p)+'_E'+str(E)+'_' + str(num//skip) + '.ppm'\n",
    "                scipy.misc.imsave(filename, frame)\n",
    "                #imageio.imwrite(filename,frame,'ppm')\n"
   ]
  },
  {
   "cell_type": "code",
   "execution_count": 1,
   "metadata": {
    "collapsed": true
   },
   "outputs": [],
   "source": [
    "import matplotlib.image as mpimg\n",
    "\n",
    "f = mpimg.imread('/home/eu/Desktop/Data/Coil_100/001/obj1__0.ppm')\n",
    "f = \n"
   ]
  }
 ],
 "metadata": {
  "kernelspec": {
   "display_name": "Python 3",
   "language": "python",
   "name": "python3"
  },
  "language_info": {
   "codemirror_mode": {
    "name": "ipython",
    "version": 3
   },
   "file_extension": ".py",
   "mimetype": "text/x-python",
   "name": "python",
   "nbconvert_exporter": "python",
   "pygments_lexer": "ipython3",
   "version": "3.6.2"
  }
 },
 "nbformat": 4,
 "nbformat_minor": 2
}
